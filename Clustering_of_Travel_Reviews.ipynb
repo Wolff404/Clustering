{
 "cells": [
  {
   "cell_type": "markdown",
   "metadata": {},
   "source": [
    "# Clustering of Travel Reviews\n",
    "\n",
    "\n",
    "## Introduction / Overview\n",
    "The dataset we will be working with in this task has no targets given. So we will investigate what the ideal number of clusters is for the dataset, the natural clusters.\n",
    "\n",
    "We will also attempt finding which algorithm is the best at finding the natural clusters. The comparisons will be done with X different algorithms.\n",
    "\n",
    "\n",
    "## The dataset\n",
    "\n",
    "- #### What is the purpose of this dataset? \n",
    "\n",
    "The purpose\n",
    "\n",
    "- #### What are the features? \n",
    "\n",
    "The features \n",
    "\n",
    "- #### What are the targets? \n",
    "\n",
    "The targets\n"
   ]
  }
 ],
 "metadata": {
  "language_info": {
   "name": "python"
  }
 },
 "nbformat": 4,
 "nbformat_minor": 2
}
